{
 "cells": [
  {
   "cell_type": "markdown",
   "metadata": {},
   "source": [
    "# Perceptrons\n",
    "\n",
    "Now that we've looked at linear regression and logistic regression, we can start learning about the fundamentals of neural networks! The simplest neural network is the **perceptron**, and it was developed by Frank Rosenblatt in 1957. The perceptron is a **binary classifier**, which is an algorithm that can classify data across two categories. In technical terms, the perceptron is a form of **supervised learning**, where we 'teach' a machine to learn some mapping between a set of input values to a set of outputs through labelled training data.\n",
    "\n",
    "## Theory\n",
    "\n",
    "The perceptron is an artifical neuron, in the sense that it is modelled after the biological neurons found in our brains. Below is a diagram of a biological neuron: \n",
    "\n",
    "![title](https://upload.wikimedia.org/wikipedia/commons/thumb/b/b5/Neuron.svg/640px-Neuron.svg.png)\n",
    "\n",
    "A biological neuron receives input signals from other neurons through its dendrites. These signals are acculumated in the cell body. If the accumulated signal exceeds a certain threshold, the neuron will 'activate' and fire an output signal which is transmitted through its axon. \n",
    "\n",
    "The key insights that computer scientists draw from the biological neuron is its ability to receive input, accumulate this input, then produce an output based on whether or not the accumulated input exceeds a particular threshold. Bearing these insights in mind, let's look at the architecture of a perceptron:\n",
    "\n",
    "![title](https://www.researchgate.net/profile/Zafeirios_Fountas/publication/266485234/figure/fig2/AS:651919710224385@1532441179639/The-simplest-mathematical-model-of-a-neuron-called-the-Perceptron-30.png)\n",
    "\n",
    "The perceptron takes in a number of inputs and calculates the weighted sum of those inputs. In a biological neuron, this step corresponds to the accumulation of the input signals in the cell body. Once the weighted sum has been calculated, we check if it exceeds a certain threshold. If it does, we fire or 'activate' the perceptron to produce an output. This step is implemented in the **activation function** of the perceptron. There are many possible activation functions we can choose from to implement in our perceptron. An example would be the sigmoid activation function, which you have come across already when you learned about logistic regression. But to keep things simple for now, we will implement what is known as the **unit-step** activation function, which looks like this:\n",
    "\n",
    "![title](https://miro.medium.com/max/762/1*K9QJmeG33SvQeJgPa52mmQ.png)\n",
    "\n",
    "As we can see, after a certain threshold (in this case 0) the function immediately jumps to 1 and 'activates', just like a biological neuron! \n",
    "\n",
    "So we now know the basic structure of a perceptron. But what is the input, and what is the output exactly? The input is the data we use to classify whatever it is we're trying to classify ($x_{i}$), and the output is the perceptron's prediction of what the class of the input should be (1 or 0). More specifically, the input is a **feature vector**, meaning it is a vector that contains some information about the object we are classifying. For instance, if we were trying to determine whether a dog is a mammal or a bird, we might use some data about its features to help us. Dogs have four legs, and unlike birds they don't have wings. From data like this, a perceptron might make the prediction that dogs are mammals. Of course, it would be right, and it would seem like our job is done. But what if it was wrong?\n",
    "\n",
    "This is where **weights** come in. Weights are the essential mechanism behind a perceptron's ability to 'learn'. One weight is assigned to each feature in the input feature vector, and each weight represents the relative importance of that feature to the classification of our input object. Remember that the perceptron calculates a weighted sum to determine whether or not it should activate. Since this sum is dependent on the perceptron's weights, a change in even one weight might make the difference in causing the perceptron to activate or not. As a result, the task of 'learning' becomes a matter of adjusting the perceptron's weights accordingly to minimise its  errors in classification. In other words, when we 'train' a perceptron, we are simply letting it automatically learn or find the configuration of weights that yields the most accurate classifications of the training data in order to prepare it well when it eventually has to classify unseen data. Importantly, the threshold of the activation function itself can be treated as a weight. Formally, since the activation function is $z \\geq \\theta$ (where z is the weighted sum and $\\theta$ is the threshold) we can rearrange this so that $z + (-\\theta*1) \\geq 0$. The $(-\\theta*1)$ term is referred to as the **bias**.   \n",
    "\n",
    "So how does a perceptron adjust its weights? Rosenblatt designed the **perceptron learning rule** for this:\n",
    "\n",
    "\\begin{equation}\n",
    "\\Delta w_{j} = \\eta(target_{i} - output_{i})x_{ij}\n",
    "\\end{equation}\n",
    "\n",
    "where $\\eta$ is the **learning rate** of the perceptron, $target_{i}$ is the target sample, $output_{i}$ is the perceptron's prediction and $x_{ij}$ is the feature input associated with the weight we are adjusting. From this formula, we can see that if the perceptron's prediction is the same as the target value (i.e both are either 1 or 0), then $\\Delta w_{j}$ will be 0 meaning the weight does not need to be adjusted at all. This makes sense since the perceptron's prediction was already correct! But if the perceptron was wrong (e.g. its prediction was 1 when the target is 0 or its prediction was 0 when the target is 1), then the weights would be adjusted to produce a result that is closer to the target, since $target_{i}-output_{i}$ will either be 1 or -1. As for the learning rate of the perceptron, this is a constant which acts as a multiplier for $\\Delta w_{j}$. The higher $\\eta$ is, the higher $\\Delta w_{j}$ will be.  \n",
    "\n",
    "\n",
    "Let's now move on to the code so we can implement our own perceptron! \n",
    "\n",
    "## Let's code!\n",
    "\n",
    "### The Iris dataset\n",
    "\n",
    "Before implementing our perceptron, we need some data. The Iris dataset is a small dataset which contains some information about 150 various iris plants of three types: setosa, versicolor and virginica. The first 50 samples in the dataset are setosa samples, the next 50 are versicolor, and the final 50 are virginica. For our purposes, we will focus on classifying whether an iris is setosa or versicolor, and ignore the data on virginica irises. The irises have a four features which can help us classify them. These are petal length, petal width, sepal length, and sepal width. To better visualise the linear classification problem, we will classify the irises based on only two of their features. This gives us a two-dimensional feature vector which is easy to plot!  \n",
    "\n",
    "First, let's import everything we need:"
   ]
  },
  {
   "cell_type": "code",
   "execution_count": 1,
   "metadata": {},
   "outputs": [],
   "source": [
    "import pandas as pd\n",
    "import numpy as np\n",
    "import matplotlib.pyplot as plt\n",
    "from sklearn.datasets import load_iris"
   ]
  },
  {
   "cell_type": "markdown",
   "metadata": {},
   "source": [
    "Now let's load the Iris dataset, and only take the information about the sepal length and petal length of each iris. X is the data we will train the perceptron on, and y is the array of target values we will refer to in order to adjust the weights of our model. \n",
    "\n",
    "Important information:\n",
    "\n",
    "- Each item in x is a numpy array consisting of 2 values: the sepal length and petal length of the training sample **in that order**. \n",
    "- In y, 0 represents that the ith sample is a setosa iris, while 1 represents that it is a versicolor iris. "
   ]
  },
  {
   "cell_type": "code",
   "execution_count": 2,
   "metadata": {
    "scrolled": false
   },
   "outputs": [
    {
     "name": "stdout",
     "output_type": "stream",
     "text": [
      "\n",
      "Setosa data:\n",
      "\n",
      "    sepal length (cm)  petal length (cm)\n",
      "0                 5.1                1.4\n",
      "1                 4.9                1.4\n",
      "2                 4.7                1.3\n",
      "3                 4.6                1.5\n",
      "4                 5.0                1.4\n",
      "5                 5.4                1.7\n",
      "6                 4.6                1.4\n",
      "7                 5.0                1.5\n",
      "8                 4.4                1.4\n",
      "9                 4.9                1.5\n",
      "10                5.4                1.5\n",
      "11                4.8                1.6\n",
      "12                4.8                1.4\n",
      "13                4.3                1.1\n",
      "14                5.8                1.2\n",
      "15                5.7                1.5\n",
      "16                5.4                1.3\n",
      "17                5.1                1.4\n",
      "18                5.7                1.7\n",
      "19                5.1                1.5\n",
      "20                5.4                1.7\n",
      "21                5.1                1.5\n",
      "22                4.6                1.0\n",
      "23                5.1                1.7\n",
      "24                4.8                1.9\n",
      "25                5.0                1.6\n",
      "26                5.0                1.6\n",
      "27                5.2                1.5\n",
      "28                5.2                1.4\n",
      "29                4.7                1.6\n",
      "30                4.8                1.6\n",
      "31                5.4                1.5\n",
      "32                5.2                1.5\n",
      "33                5.5                1.4\n",
      "34                4.9                1.5\n",
      "35                5.0                1.2\n",
      "36                5.5                1.3\n",
      "37                4.9                1.4\n",
      "38                4.4                1.3\n",
      "39                5.1                1.5\n",
      "40                5.0                1.3\n",
      "41                4.5                1.3\n",
      "42                4.4                1.3\n",
      "43                5.0                1.6\n",
      "44                5.1                1.9\n",
      "45                4.8                1.4\n",
      "46                5.1                1.6\n",
      "47                4.6                1.4\n",
      "48                5.3                1.5\n",
      "49                5.0                1.4\n",
      "\n",
      "Versicolor data:\n",
      "\n",
      "    sepal length (cm)  petal length (cm)\n",
      "50                7.0                4.7\n",
      "51                6.4                4.5\n",
      "52                6.9                4.9\n",
      "53                5.5                4.0\n",
      "54                6.5                4.6\n",
      "55                5.7                4.5\n",
      "56                6.3                4.7\n",
      "57                4.9                3.3\n",
      "58                6.6                4.6\n",
      "59                5.2                3.9\n",
      "60                5.0                3.5\n",
      "61                5.9                4.2\n",
      "62                6.0                4.0\n",
      "63                6.1                4.7\n",
      "64                5.6                3.6\n",
      "65                6.7                4.4\n",
      "66                5.6                4.5\n",
      "67                5.8                4.1\n",
      "68                6.2                4.5\n",
      "69                5.6                3.9\n",
      "70                5.9                4.8\n",
      "71                6.1                4.0\n",
      "72                6.3                4.9\n",
      "73                6.1                4.7\n",
      "74                6.4                4.3\n",
      "75                6.6                4.4\n",
      "76                6.8                4.8\n",
      "77                6.7                5.0\n",
      "78                6.0                4.5\n",
      "79                5.7                3.5\n",
      "80                5.5                3.8\n",
      "81                5.5                3.7\n",
      "82                5.8                3.9\n",
      "83                6.0                5.1\n",
      "84                5.4                4.5\n",
      "85                6.0                4.5\n",
      "86                6.7                4.7\n",
      "87                6.3                4.4\n",
      "88                5.6                4.1\n",
      "89                5.5                4.0\n",
      "90                5.5                4.4\n",
      "91                6.1                4.6\n",
      "92                5.8                4.0\n",
      "93                5.0                3.3\n",
      "94                5.6                4.2\n",
      "95                5.7                4.2\n",
      "96                5.7                4.2\n",
      "97                6.2                4.3\n",
      "98                5.1                3.0\n",
      "99                5.7                4.1\n"
     ]
    }
   ],
   "source": [
    "iris_data = load_iris(return_X_y=True, as_frame=True)\n",
    "print('\\nSetosa data:\\n')\n",
    "print(iris_data[0].iloc[:50, [0,2]])\n",
    "print('\\nVersicolor data:\\n')\n",
    "print(iris_data[0].iloc[50:100, [0,2]])\n",
    "X = iris_data[0].iloc[:100, [0,2]].to_numpy()\n",
    "y = [x for x in iris_data[1] if x == 0 or x == 1]"
   ]
  },
  {
   "cell_type": "markdown",
   "metadata": {},
   "source": [
    "The code below plots the data above in a graph with matplotlib. If you're interested in learning how to draw plots in Python, matplotlib is a great place to start! As we can see, the setosa and versicolor samples can easily be partitioned into two categories by a line! This means that the data we're working with is **linearly separable**.   Our peceptron's job is to find a line such that the data is separated into two classes with the highest accuracy possible. If our data is not linearly separable, then the perceptron will not **converge**, which just means it will have failed to find a solution to classify or **linearly separate** the training data perfectly. So, for future reference, to maximise the utility of a perceptron, we should make sure that the data we want to classify is linearly separable first.   "
   ]
  },
  {
   "cell_type": "code",
   "execution_count": 3,
   "metadata": {},
   "outputs": [
    {
     "data": {
      "image/png": "[encoded data removed]",
      "text/plain": [
       "<Figure size 720x576 with 1 Axes>"
      ]
     },
     "metadata": {
      "needs_background": "light"
     },
     "output_type": "display_data"
    }
   ],
   "source": [
    "plt.figure(figsize=(10,8))\n",
    "\n",
    "setosa_x = [x[0] for x in X[:50]]\n",
    "setosa_y = [x[1] for x in X[:50]]\n",
    "versicolor_x = [x[0] for x in X[50:100]]\n",
    "versicolor_y = [x[1] for x in X[50:100]]\n",
    "\n",
    "def calculate_ys(m, c, xs):\n",
    "    ys = [(m*x)+c for x in xs]\n",
    "    return ys\n",
    "\n",
    "def plot_figure(x1, y1, x2, y2):\n",
    "    plt.scatter(x1, y1, color='red', marker='x', label='setosa')\n",
    "    plt.scatter(x2, y2, color='blue', marker='o', label='versicolor')\n",
    "    axes = plt.gca()\n",
    "    plt.plot(np.arange(int(axes.get_xlim()[0]), int(axes.get_xlim()[1]+1)), \n",
    "             calculate_ys(0.12,2,np.arange(int(axes.get_xlim()[0]), int(axes.get_xlim()[1]+1))))\n",
    "    plt.xlabel('Sepal length (cm)')\n",
    "    plt.ylabel('Petal length (cm)')\n",
    "    plt.legend(loc='upper left')\n",
    "\n",
    "plot_figure(setosa_x, setosa_y, versicolor_x, versicolor_y)"
   ]
  },
  {
   "cell_type": "markdown",
   "metadata": {},
   "source": [
    "## Implementing the perceptron"
   ]
  },
  {
   "cell_type": "markdown",
   "metadata": {},
   "source": [
    "In the cell below, a `CustomPerceptron` class has been defined, with some skeleton code. It is up to you to implement the `activate` and `fit` functions. In the `fit` function, you should also count the number of errors the model makes every epoch, and store it in the `errors` variable of the class. After the perceptron has been trained, you can then plot the number of errors per epoch with the `plot_errors` function to see the model converge. Ask our tutors for help if you need any!"
   ]
  },
  {
   "cell_type": "code",
   "execution_count": 4,
   "metadata": {},
   "outputs": [],
   "source": [
    "class CustomPerceptron:\n",
    "    \n",
    "    #########################################################\n",
    "    \n",
    "    # DO NOT TOUCH\n",
    "    \n",
    "    def __init__(self, b, lr, e):\n",
    "        self.bias = -b \n",
    "        self.learning_rate = lr\n",
    "        self.epochs = e\n",
    "        self.W = None\n",
    "        self.errors = []\n",
    "        \n",
    "    def get_weights(self):\n",
    "        return 'the weights of the model are currently {}\\n'.format(self.W)\n",
    "    \n",
    "    def activate_test(self, x):\n",
    "        labels = ['Setosa', 'Versicolor']\n",
    "        activate_result = 0\n",
    "        weighted_sum = np.dot(x, self.W) + self.bias\n",
    "        if weighted_sum >= 0:\n",
    "            activate_result = 1\n",
    "        print('Perceptron\\'s prediction: {}\\n'.format(labels[activate_result]))\n",
    "        \n",
    "    def plot_errors(self):\n",
    "        x = [i+1 for i in range(self.epochs)]\n",
    "        plt.figure(figsize=(8,6))\n",
    "        plt.plot(x, self.errors, color='blue', marker='o')\n",
    "        plt.xlim(1, self.epochs)\n",
    "        plt.xlabel('Epochs')\n",
    "        plt.ylabel('No. of misclassifications')\n",
    "    \n",
    "    #########################################################\n",
    "    \n",
    "    def activate(self, x):\n",
    "        # TODO\n",
    "        pass\n",
    "                \n",
    "    def fit(self, X, y):\n",
    "        # randomly initialise the weights\n",
    "        self.W = np.ones(X.shape[1])\n",
    "        for e in range(self.epochs):\n",
    "            print('Epoch {}: {}'.format(e+1, self.get_weights()))\n",
    "            \n",
    "            # TODO\n",
    "            # for each training sample, \n",
    "            # generate a prediction;\n",
    "            # calculate delta w_j;\n",
    "            # update the weights and bias;\n",
    "            # keep track of errors\n",
    "            pass"
   ]
  },
  {
   "cell_type": "markdown",
   "metadata": {},
   "source": [
    "Below, the CustomPerceptron class has been instantiated in the variable `custom_p`, with some default parameters. Fit the model to the training data and plot the number of errors in each epoch. Feel free to play around with these parameters to see how the weights and errors change!  "
   ]
  },
  {
   "cell_type": "code",
   "execution_count": 5,
   "metadata": {},
   "outputs": [],
   "source": [
    "# Default params: bias = 0, learning rate = 0.1, epochs = 10\n",
    "\n",
    "custom_p = CustomPerceptron(0, 0.1, 10)\n",
    "\n",
    "# TODO"
   ]
  },
  {
   "cell_type": "markdown",
   "metadata": {},
   "source": [
    "## Testing!\n",
    "\n",
    "Now that we've trained the perceptron, we can use it to classify some new samples it hasn't seen before! Below are 5 new flowers. Use the `activate_test` function from the CustomPerceptron class to make these predictions. Remember that each sample is represented as a numpy array consisting of two features, the first being the sample's sepal length and the second being its petal length. \n",
    "\n",
    "Some questions to keep in mind:\n",
    "\n",
    "- Does the perceptron classify the new samples in the way you would expect? i.e. if you were to classify the new samples as setosa and versicolor based on the data we have from the Iris dataset, would it be the same as the perceptron's prediction?\n",
    "- Consider examples 4 and 5. How does the perceptron classify them and why has it classified them that way?  "
   ]
  },
  {
   "cell_type": "code",
   "execution_count": 6,
   "metadata": {},
   "outputs": [],
   "source": [
    "new_flower_1 = np.array([7.4, 4.2])\n",
    "\n",
    "new_flower_2 = np.array([4.3, 1.6])\n",
    "\n",
    "new_flower_3 = np.array([4.8, 1.7])\n",
    "\n",
    "new_flower_4 = np.array([6.8, 1.6])\n",
    "\n",
    "new_flower_5 = np.array([5.8, 4.6])\n",
    "\n",
    "# TODO"
   ]
  }
 ],
 "metadata": {
  "kernelspec": {
   "display_name": "Python 3",
   "language": "python",
   "name": "python3"
  },
  "language_info": {
   "codemirror_mode": {
    "name": "ipython",
    "version": 3
   },
   "file_extension": ".py",
   "mimetype": "text/x-python",
   "name": "python",
   "nbconvert_exporter": "python",
   "pygments_lexer": "ipython3",
   "version": "3.7.0"
  }
 },
 "nbformat": 4,
 "nbformat_minor": 4
}
